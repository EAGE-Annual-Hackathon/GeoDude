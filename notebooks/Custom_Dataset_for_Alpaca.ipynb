{
 "cells": [
  {
   "cell_type": "markdown",
   "metadata": {},
   "source": [
    "# Custom Petrobowl Dataset for fine tunning alpaca|"
   ]
  },
  {
   "cell_type": "code",
   "execution_count": 11,
   "metadata": {},
   "outputs": [],
   "source": [
    "import pandas as pd\n",
    "import json"
   ]
  },
  {
   "cell_type": "code",
   "execution_count": 17,
   "metadata": {},
   "outputs": [],
   "source": [
    "\n",
    "# Loading the Excel file\n",
    "df = pd.read_excel('data_petrobowl/petrobowl_data.xlsx') \n",
    "\n",
    "# Defining a list to hold the data\n",
    "data = []\n",
    "\n",
    "# Iterating over the rows in the DataFrame and constructing the data\n",
    "for index, row in df.iterrows():\n",
    "    data.append({\n",
    "        \"instruction\": \"Provide an answer for the petrobowl question\",\n",
    "        \"input\": str(row[0]),  # Convert input to string\n",
    "        \"output\": str(row[1])  # Convert output to string\n",
    "    })\n",
    "\n",
    "# Writing the data to a JSON file\n",
    "with open('petrobowl_dataset.json', 'w') as f:\n",
    "    json.dump(data, f, indent=4)\n"
   ]
  }
 ],
 "metadata": {
  "kernelspec": {
   "display_name": "geodude",
   "language": "python",
   "name": "python3"
  },
  "language_info": {
   "codemirror_mode": {
    "name": "ipython",
    "version": 3
   },
   "file_extension": ".py",
   "mimetype": "text/x-python",
   "name": "python",
   "nbconvert_exporter": "python",
   "pygments_lexer": "ipython3",
   "version": "3.9.16"
  },
  "orig_nbformat": 4,
  "vscode": {
   "interpreter": {
    "hash": "caed2004f21303f7cc20ad6839fc73b016897941130ed587ced8f2b4def15e03"
   }
  }
 },
 "nbformat": 4,
 "nbformat_minor": 2
}
