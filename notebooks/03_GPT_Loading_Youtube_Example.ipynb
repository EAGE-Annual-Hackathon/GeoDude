{
 "cells": [
  {
   "attachments": {},
   "cell_type": "markdown",
   "metadata": {},
   "source": [
    "# GPT - Loading Youtube videos using LLama Index and Llama collectors"
   ]
  },
  {
   "attachments": {},
   "cell_type": "markdown",
   "metadata": {},
   "source": [
    "In this example, rather than training a model from scratch, we can leverage the benefits of using a pre-trained model and enhance its knowledge by extracting information from a YouTube video using Llama collectors and the Llama index. This approach, known as context learning, allows us to reduce resource consumption while creating a customized model specifically designed for geoscience."
   ]
  },
  {
   "attachments": {},
   "cell_type": "markdown",
   "metadata": {},
   "source": [
    "Here we will use the LLM from open ai, therefore we need to have an open AI key. "
   ]
  },
  {
   "cell_type": "code",
   "execution_count": 1,
   "metadata": {},
   "outputs": [],
   "source": [
    "import os\n",
    "os.environ['OPENAI_API_KEY'] = \"insert your openai key \"\n",
    "os.environ[\"CUDA_VISIBLE_DEVICES\"] = \"0\" \n",
    "\n",
    "from pathlib import Path #needed for the pdf connector\n",
    "from llama_index import download_loader\n",
    "from llama_index import SimpleDirectoryReader # Simple reader from txt\n",
    "\n",
    "from llama_index import (\n",
    "    GPTVectorStoreIndex,\n",
    "    GPTEmptyIndex,\n",
    "    GPTTreeIndex,\n",
    "    GPTListIndex,\n",
    "    SimpleDirectoryReader,\n",
    "    ServiceContext,\n",
    "    StorageContext,\n",
    ")\n",
    "\n",
    "from llama_index import download_loader\n"
   ]
  },
  {
   "attachments": {},
   "cell_type": "markdown",
   "metadata": {},
   "source": [
    "## From Context\n"
   ]
  },
  {
   "attachments": {},
   "cell_type": "markdown",
   "metadata": {},
   "source": [
    "Youtube reader from llama connectors"
   ]
  },
  {
   "cell_type": "code",
   "execution_count": 2,
   "metadata": {},
   "outputs": [
    {
     "name": "stdout",
     "output_type": "stream",
     "text": [
      "Collecting youtube_transcript_api~=0.5.0 (from -r /home/alfarhmy/miniconda3/envs/geodude/lib/python3.9/site-packages/llama_index/readers/llamahub_modules/youtube_transcript/requirements.txt (line 1))\n",
      "  Downloading youtube_transcript_api-0.5.0-py3-none-any.whl (23 kB)\n",
      "Requirement already satisfied: requests in /home/alfarhmy/miniconda3/envs/geodude/lib/python3.9/site-packages (from youtube_transcript_api~=0.5.0->-r /home/alfarhmy/miniconda3/envs/geodude/lib/python3.9/site-packages/llama_index/readers/llamahub_modules/youtube_transcript/requirements.txt (line 1)) (2.31.0)\n",
      "Requirement already satisfied: charset-normalizer<4,>=2 in /home/alfarhmy/miniconda3/envs/geodude/lib/python3.9/site-packages (from requests->youtube_transcript_api~=0.5.0->-r /home/alfarhmy/miniconda3/envs/geodude/lib/python3.9/site-packages/llama_index/readers/llamahub_modules/youtube_transcript/requirements.txt (line 1)) (3.1.0)\n",
      "Requirement already satisfied: idna<4,>=2.5 in /home/alfarhmy/miniconda3/envs/geodude/lib/python3.9/site-packages (from requests->youtube_transcript_api~=0.5.0->-r /home/alfarhmy/miniconda3/envs/geodude/lib/python3.9/site-packages/llama_index/readers/llamahub_modules/youtube_transcript/requirements.txt (line 1)) (3.4)\n",
      "Requirement already satisfied: urllib3<3,>=1.21.1 in /home/alfarhmy/miniconda3/envs/geodude/lib/python3.9/site-packages (from requests->youtube_transcript_api~=0.5.0->-r /home/alfarhmy/miniconda3/envs/geodude/lib/python3.9/site-packages/llama_index/readers/llamahub_modules/youtube_transcript/requirements.txt (line 1)) (1.26.16)\n",
      "Requirement already satisfied: certifi>=2017.4.17 in /home/alfarhmy/miniconda3/envs/geodude/lib/python3.9/site-packages (from requests->youtube_transcript_api~=0.5.0->-r /home/alfarhmy/miniconda3/envs/geodude/lib/python3.9/site-packages/llama_index/readers/llamahub_modules/youtube_transcript/requirements.txt (line 1)) (2023.5.7)\n",
      "Installing collected packages: youtube_transcript_api\n",
      "Successfully installed youtube_transcript_api-0.5.0\n"
     ]
    }
   ],
   "source": [
    "YoutubeTranscriptReader = download_loader(\"YoutubeTranscriptReader\")\n",
    "\n",
    "loader = YoutubeTranscriptReader()\n",
    "documents = loader.load_data(ytlinks=['https://www.youtube.com/watch?v=-irZQY9H6mg'])\n",
    "\n",
    "# new_index = GPTVectorStoreIndex.from_documents(documents)\n",
    "new_index = GPTListIndex.from_documents(documents)"
   ]
  },
  {
   "attachments": {},
   "cell_type": "markdown",
   "metadata": {},
   "source": [
    "Creating the query and the response"
   ]
  },
  {
   "cell_type": "code",
   "execution_count": 4,
   "metadata": {},
   "outputs": [
    {
     "name": "stdout",
     "output_type": "stream",
     "text": [
      "\n",
      "Auto encoders and generative adversarial neural networks are two deep learning methods used to interpolate seismic data. Additionally, a multi-dimensional adversarial gun (MDA gun) method has been introduced for 3D reconstruction of missing traces in seismic data.\n"
     ]
    }
   ],
   "source": [
    "# query with embed_model specified\n",
    "query_engine = new_index.as_query_engine(response_mode='tree_summarize',\n",
    "    verbose=False\n",
    ")\n",
    "response = query_engine.query(\"What deep learning methods are used to interpolate seismic data\")\n",
    "print(response)"
   ]
  },
  {
   "cell_type": "code",
   "execution_count": 5,
   "metadata": {},
   "outputs": [
    {
     "name": "stdout",
     "output_type": "stream",
     "text": [
      "\n",
      "The video is about how cutting-edge machine learning techniques are revolutionizing the way we handle missing tracers in seismic data, leading to a more accurate interpretation. It also discusses the two main categories of machine learning for seismic data interpolation (Auto encoders and generative adversarial neural networks) and introduces a new method called Multi-Dimensional Adversarial GAN (MDA GAN) for reconstruction of missing traces in seismic data.\n"
     ]
    }
   ],
   "source": [
    "# query with embed_model specified\n",
    "query_engine = new_index.as_query_engine(response_mode='tree_summarize'\n",
    ")\n",
    "response_2 = query_engine.query(\"What is the video about\")\n",
    "print(response_2)"
   ]
  }
 ],
 "metadata": {
  "kernelspec": {
   "display_name": "geodude",
   "language": "python",
   "name": "python3"
  },
  "language_info": {
   "codemirror_mode": {
    "name": "ipython",
    "version": 3
   },
   "file_extension": ".py",
   "mimetype": "text/x-python",
   "name": "python",
   "nbconvert_exporter": "python",
   "pygments_lexer": "ipython3",
   "version": "3.9.16"
  },
  "orig_nbformat": 4,
  "vscode": {
   "interpreter": {
    "hash": "caed2004f21303f7cc20ad6839fc73b016897941130ed587ced8f2b4def15e03"
   }
  }
 },
 "nbformat": 4,
 "nbformat_minor": 2
}
