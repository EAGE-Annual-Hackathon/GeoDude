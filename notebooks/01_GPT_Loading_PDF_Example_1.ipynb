{
 "cells": [
  {
   "attachments": {},
   "cell_type": "markdown",
   "metadata": {},
   "source": [
    "# GPT Loading PDF using LLama Index and Llama collectors"
   ]
  },
  {
   "attachments": {},
   "cell_type": "markdown",
   "metadata": {},
   "source": [
    "In this example, rather than training a model from scratch, we can leverage the benefits of using a pre-trained model and enhance its knowledge by extracting information from a PDF using Llama collectors and the Llama index. This approach, known as context learning, allows us to reduce resource consumption while creating a customized model specifically designed for geoscience."
   ]
  },
  {
   "attachments": {},
   "cell_type": "markdown",
   "metadata": {},
   "source": [
    "Here we will use the LLM from open ai, therefore we need to have an open AI key. "
   ]
  },
  {
   "cell_type": "code",
   "execution_count": 1,
   "metadata": {},
   "outputs": [],
   "source": [
    "import os\n",
    "os.environ['OPENAI_API_KEY'] = \"insert your openai key \"\n",
    "os.environ[\"CUDA_VISIBLE_DEVICES\"] = \"0\" \n",
    "\n",
    "from pathlib import Path #needed for the pdf connector\n",
    "from llama_index import download_loader\n",
    "from llama_index import SimpleDirectoryReader # Simple reader from txt\n",
    "\n",
    "from llama_index import (\n",
    "    GPTVectorStoreIndex,\n",
    "    GPTEmptyIndex,\n",
    "    GPTTreeIndex,\n",
    "    GPTListIndex,\n",
    "    SimpleDirectoryReader,\n",
    "    ServiceContext,\n",
    "    StorageContext,\n",
    ")\n"
   ]
  },
  {
   "attachments": {},
   "cell_type": "markdown",
   "metadata": {},
   "source": [
    "## Benchmark"
   ]
  },
  {
   "attachments": {},
   "cell_type": "markdown",
   "metadata": {},
   "source": [
    "First, we will begin by posing a \"geoscience question\" in order to establish a benchmark. This step is intended to gauge the pretrained model's ability to provide an answer without any prior knowledge or context regarding a specific problem that will be introduced later on."
   ]
  },
  {
   "attachments": {},
   "cell_type": "markdown",
   "metadata": {},
   "source": [
    "For this we will create an empty index, it will allow us to get an answer directly from the LLM."
   ]
  },
  {
   "cell_type": "code",
   "execution_count": 2,
   "metadata": {},
   "outputs": [],
   "source": [
    "# configure\n",
    "service_context = ServiceContext.from_defaults(chunk_size=256)\n",
    "storage_context = StorageContext.from_defaults()\n",
    "\n",
    "# build empty index\n",
    "empty_index = GPTEmptyIndex(service_context=service_context, storage_context=storage_context)"
   ]
  },
  {
   "attachments": {},
   "cell_type": "markdown",
   "metadata": {},
   "source": [
    "Creating the query, and obtaining the response"
   ]
  },
  {
   "cell_type": "code",
   "execution_count": 3,
   "metadata": {},
   "outputs": [
    {
     "name": "stdout",
     "output_type": "stream",
     "text": [
      "\n",
      "\n",
      "Model-based seismic inversion is a process of interpreting seismic data by using a priori knowledge of the subsurface. This method relies on a model of the subsurface that is built from geological and geophysical data. The model is then used to generate synthetic seismic data that is compared to the actual seismic data. The differences between the two are used to refine the model and improve the accuracy of the interpretation.\n",
      "\n",
      "Data-driven seismic inversion is a process of interpreting seismic data without relying on a priori knowledge of the subsurface. This method uses machine learning algorithms to analyze the seismic data and identify patterns that can be used to infer the subsurface structure. Data-driven seismic inversion does not require a model of the subsurface and can be used to generate more accurate interpretations of the subsurface.\n"
     ]
    }
   ],
   "source": [
    "query_engine = empty_index.as_query_engine(\n",
    "    response_mode='generation'\n",
    ")\n",
    "response_benchmark = query_engine.query(\n",
    "    \"What is the difference between model-based and data-driven seismic invesion?\",\n",
    ")\n",
    "print(response_benchmark)"
   ]
  },
  {
   "cell_type": "code",
   "execution_count": 10,
   "metadata": {},
   "outputs": [
    {
     "name": "stdout",
     "output_type": "stream",
     "text": [
      "\n",
      "\n",
      "Supervised learning is best used for post-stack seismic inversion when the seismic data is of high quality and the desired output is well-defined. Supervised learning can be used to identify patterns in the seismic data and to create a model that can be used to predict the desired output. This type of learning is particularly useful when the data is complex and the desired output is difficult to define.\n"
     ]
    }
   ],
   "source": [
    "query_engine = empty_index.as_query_engine(\n",
    "    response_mode='generation'\n",
    ")\n",
    "response_benchmark_2 = query_engine.query(\n",
    "    \"When is better to use Supervised Learning for post-stack seismic inversion?\",\n",
    ")\n",
    "print(response_benchmark_2)"
   ]
  },
  {
   "attachments": {},
   "cell_type": "markdown",
   "metadata": {},
   "source": [
    "With this we obtained the benchamark answer. Now, we will proceed to inject the knowledge of a pdf (EAGE abstract)"
   ]
  },
  {
   "attachments": {},
   "cell_type": "markdown",
   "metadata": {},
   "source": [
    "## From Context\n"
   ]
  },
  {
   "attachments": {},
   "cell_type": "markdown",
   "metadata": {},
   "source": [
    "Pdf reader from llama connectors"
   ]
  },
  {
   "cell_type": "code",
   "execution_count": 5,
   "metadata": {},
   "outputs": [],
   "source": [
    "CJKPDFReader = download_loader(\"CJKPDFReader\")\n",
    "loader = CJKPDFReader()"
   ]
  },
  {
   "attachments": {},
   "cell_type": "markdown",
   "metadata": {},
   "source": [
    "Loading the pdf file to introduce our dataset and create the index"
   ]
  },
  {
   "cell_type": "code",
   "execution_count": 6,
   "metadata": {},
   "outputs": [],
   "source": [
    "documents = loader.load_data(file=Path('data_test/158.pdf'))\n",
    "index = GPTVectorStoreIndex.from_documents(documents)"
   ]
  },
  {
   "attachments": {},
   "cell_type": "markdown",
   "metadata": {},
   "source": [
    "Creating the query and the response"
   ]
  },
  {
   "cell_type": "code",
   "execution_count": 7,
   "metadata": {},
   "outputs": [
    {
     "name": "stdout",
     "output_type": "stream",
     "text": [
      "\n",
      "Model-based seismic inversion is a method of solving a minimization problem to estimate the acoustic impedance model from seismic data. It relies on a linear approximation of the reflectivity equation and is solved using an iterative solver with a background acoustic impedance model as an initial guess. \n",
      "\n",
      "Data-driven seismic inversion, on the other hand, relies on the supervised learning paradigm. It uses a neural network to predict the acoustic impedance profile from seismic traces, and can also include a data-consistency loss to compare the output of the network with the data. This approach does not require a linear approximation of the reflectivity equation and does not rely on an initial guess.\n"
     ]
    }
   ],
   "source": [
    "query_engine = index.as_query_engine()\n",
    "response_context = query_engine.query(\"What is the difference between model-based and data-driven seismic invesion?\")\n",
    "print(response_context)"
   ]
  },
  {
   "cell_type": "code",
   "execution_count": 12,
   "metadata": {},
   "outputs": [
    {
     "name": "stdout",
     "output_type": "stream",
     "text": [
      "\n",
      "Supervised learning is best used for post-stack seismic inversion when there is a dense well coverage and a background trend in the input dataset. Additionally, a data-consistency loss should be included for seismic traces without matching acoustic impedance profiles. When less than six wells are available in the training process, the supervised approach becomes less accurate than the Plug-and-Play (PnP) approach.\n"
     ]
    }
   ],
   "source": [
    "query_engine = index.as_query_engine(response_mode='tree_summarize')\n",
    "response_context_2 = query_engine.query(\"When is better to use Supervised Learning for post-stack seismic inversion?\")\n",
    "print(response_context_2)"
   ]
  },
  {
   "cell_type": "markdown",
   "metadata": {},
   "source": [
    "## Asking about the paper"
   ]
  },
  {
   "cell_type": "code",
   "execution_count": 8,
   "metadata": {},
   "outputs": [
    {
     "name": "stdout",
     "output_type": "stream",
     "text": [
      "\n",
      "This paper is about the comparison of different seismic inversion methods, including deep image prior based seismic inversion, plug-and-play seismic inversion, and supervised learning approaches. The comparison is performed on a synthetic dataset created from the Marmousi model.\n"
     ]
    }
   ],
   "source": [
    "query_engine = index.as_query_engine()\n",
    "response_context_4 = query_engine.query(\"What is the paper about\")\n",
    "print(response_context_4)"
   ]
  }
 ],
 "metadata": {
  "kernelspec": {
   "display_name": "geodude",
   "language": "python",
   "name": "python3"
  },
  "language_info": {
   "codemirror_mode": {
    "name": "ipython",
    "version": 3
   },
   "file_extension": ".py",
   "mimetype": "text/x-python",
   "name": "python",
   "nbconvert_exporter": "python",
   "pygments_lexer": "ipython3",
   "version": "3.9.16"
  },
  "orig_nbformat": 4,
  "vscode": {
   "interpreter": {
    "hash": "caed2004f21303f7cc20ad6839fc73b016897941130ed587ced8f2b4def15e03"
   }
  }
 },
 "nbformat": 4,
 "nbformat_minor": 2
}
